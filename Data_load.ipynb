{
 "cells": [
  {
   "cell_type": "code",
   "execution_count": null,
   "metadata": {},
   "outputs": [],
   "source": [
    "\n",
    "//String to Integer:\n",
    "LOAD CSV  WITH HEADERS FROM 'https://data.neo4j.com/intro/movies/people.csv' AS row RETURN row.name, toInteger(row.born)  LIMIT 5;\n",
    "LOAD CSV  WITH HEADERS FROM 'https://data.neo4j.com/intro/movies/movies.csv'  AS row RETURN row.title, row.tagline, toInteger(row.released) LIMIT 5;\n",
    "\n",
    "//array:\n",
    "LOAD CSV WITH HEADERS FROM 'https://data.neo4j.com/intro/movies/actors.csv' AS row\n",
    "WITH row WHERE row.person = 'Hugo Weaving' RETURN split(coalesce(row.roles,\"\"),\";\");\n",
    "\n",
    "//Personen daten:\n",
    "LOAD CSV WITH HEADERS FROM 'https://data.neo4j.com/intro/movies/people.csv'  AS row\n",
    "CREATE (p:Person)\n",
    "SET p.name = row.name, p.born = toInteger(row.born);\n",
    "\n",
    "//Film Daten:\n",
    "LOAD CSV WITH HEADERS FROM 'https://data.neo4j.com/intro/movies/movies.csv'  AS row\n",
    "CREATE (m:Film)\n",
    "SET m.title = row.title, m.released = toInteger(row.released), m.tagline = row.tagline;\n",
    "\n",
    "//Film Index:\n",
    "CREATE CONSTRAINT UniqueFilmTitleConstraint FOR (m:Film) REQUIRE m.title IS UNIQUE;\n",
    "\n",
    "//Personen Index:\n",
    "CREATE CONSTRAINT UniquePersonNameConstraint FOR (p:Person) REQUIRE p.name IS UNIQUE;\n",
    "\n",
    "//directors:\n",
    "\n",
    "LOAD CSV WITH HEADERS FROM 'https://data.neo4j.com/intro/movies/directors.csv' AS row\n",
    "MATCH (m:Film {title: row.film})\n",
    "MERGE (p:Person {name: row.person})\n",
    "WITH m,p\n",
    "MERGE (p)-[:DIRECTED]->(m);\n",
    "\n",
    "//acters:\n",
    "\n",
    "LOAD CSV WITH HEADERS FROM 'https://data.neo4j.com/intro/movies/actors.csv'  as row\n",
    "MATCH (p:Person) where p.name = row.person\n",
    "MATCH (m:Film) where m.title = row.film\n",
    "WITH row, p, m\n",
    "MERGE (p)-[r:ACTED_IN]->(m)\n",
    "SET r.roles = split(coalesce(row.roles,\"\"),\";\");\n",
    " \n"
   ]
  }
 ],
 "metadata": {
  "language_info": {
   "name": "python"
  },
  "orig_nbformat": 4
 },
 "nbformat": 4,
 "nbformat_minor": 2
}
