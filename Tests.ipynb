{
 "cells": [
  {
   "attachments": {},
   "cell_type": "markdown",
   "metadata": {},
   "source": [
    "# Installing Librarys"
   ]
  },
  {
   "cell_type": "code",
   "execution_count": 27,
   "metadata": {},
   "outputs": [],
   "source": [
    "%pip install neo4j\n",
    "from neo4j import GraphDatabase, exceptions"
   ]
  },
  {
   "attachments": {},
   "cell_type": "markdown",
   "metadata": {},
   "source": [
    "# Setting up driver"
   ]
  },
  {
   "cell_type": "code",
   "execution_count": 40,
   "metadata": {},
   "outputs": [],
   "source": [
    "driver = GraphDatabase.driver(\"neo4j+s://d0eb4ffb.databases.neo4j.io\", auth=(\"neo4j\", \"tuU6ZWnGsMTth1bQmz5iFT3mmhgZJNOnsjoPM5GbQAw\"))"
   ]
  },
  {
   "attachments": {},
   "cell_type": "markdown",
   "metadata": {},
   "source": [
    "# Stärke 1"
   ]
  },
  {
   "cell_type": "code",
   "execution_count": 29,
   "metadata": {},
   "outputs": [
    {
     "name": "stderr",
     "output_type": "stream",
     "text": [
      "C:\\Users\\David Dedic\\AppData\\Local\\Temp\\ipykernel_17696\\831392994.py:18: DeprecationWarning: write_transaction has been renamed to execute_write\n",
      "  session.write_transaction(create_relationship, \"Test_User\", \"Nicko\")\n"
     ]
    },
    {
     "name": "stdout",
     "output_type": "stream",
     "text": [
      "Transaktion fehlgeschlagen:  Kann Beziehung nicht erstellen\n"
     ]
    }
   ],
   "source": [
    "def create_relationship(tx, name1, name2):\n",
    "    tx.run(\"\"\"\n",
    "    CREATE (a:Person {name: $name1})\n",
    "    RETURN a\n",
    "    \"\"\", name1=name1)\n",
    "    result = tx.run(\"\"\"\n",
    "    MATCH (a:Person {name: $name1})\n",
    "    MATCH (b:Person {name: $name2})\n",
    "    MERGE (a)-[:KNOWS]->(b)\n",
    "    RETURN a, b\n",
    "    \"\"\", name1=name1, name2=name2)\n",
    "    if not result.single():\n",
    "        raise Exception(\"Kann Beziehung nicht erstellen\")\n",
    "\n",
    "def transaction_example(driver):\n",
    "    with driver.session() as session:\n",
    "        try:\n",
    "            session.write_transaction(create_relationship, \"Test_User\", \"Nicko\")\n",
    "        except Exception as e:\n",
    "            print(\"Transaktion fehlgeschlagen: \", e)\n",
    "\n",
    "transaction_example(driver)\n",
    "\n"
   ]
  },
  {
   "cell_type": "code",
   "execution_count": 31,
   "metadata": {},
   "outputs": [
    {
     "name": "stdout",
     "output_type": "stream",
     "text": [
      "Person mit dem Namen 'Test_User' existiert nicht.\n"
     ]
    },
    {
     "name": "stderr",
     "output_type": "stream",
     "text": [
      "C:\\Users\\David Dedic\\AppData\\Local\\Temp\\ipykernel_17696\\687030250.py:9: DeprecationWarning: read_transaction has been renamed to execute_read\n",
      "  session.read_transaction(find_person, \"Test_User\")\n"
     ]
    }
   ],
   "source": [
    "def find_person(tx, name):\n",
    "    result = tx.run(\"MATCH (p:Person) WHERE p.name = $name RETURN p.name AS name\", name=name)\n",
    "    record = result.single() # fetch only one record\n",
    "    if record is None:\n",
    "        print(f\"Person mit dem Namen '{name}' existiert nicht.\")\n",
    "    else:\n",
    "        print(record[\"name\"])\n",
    "with driver.session() as session:\n",
    "    session.read_transaction(find_person, \"Test_User\")\n"
   ]
  },
  {
   "cell_type": "code",
   "execution_count": 24,
   "metadata": {},
   "outputs": [],
   "source": [
    "find_person(driver.session(), \"Test_User\")"
   ]
  },
  {
   "attachments": {},
   "cell_type": "markdown",
   "metadata": {},
   "source": [
    "# Stärke 2"
   ]
  },
  {
   "cell_type": "code",
   "execution_count": 42,
   "metadata": {},
   "outputs": [
    {
     "name": "stdout",
     "output_type": "stream",
     "text": [
      "<Record path=<Path start=<Node element_id='4:a073acd0-a5a2-4eaf-a569-5c35c2336960:64' labels=frozenset({'Person'}) properties={'born': 1956, 'name': 'Tom Hanks'}> end=<Node element_id='4:a073acd0-a5a2-4eaf-a569-5c35c2336960:39' labels=frozenset({'Person'}) properties={'born': 1967, 'name': 'Steve Zahn'}> size=2>>\n"
     ]
    }
   ],
   "source": [
    "def get_shortest_path(driver):\n",
    "    with driver.session() as session:\n",
    "        result = session.run(\"MATCH (p1:Person {name: 'Tom Hanks'}), (p2:Person {name: 'Steve Zahn'}) \"\n",
    "                             \"MATCH path = shortestPath((p1)-[*]-(p2)) \"\n",
    "                             \"RETURN path\")\n",
    "        return result.single()\n",
    "\n",
    "path = get_shortest_path(driver)\n",
    "print(path)"
   ]
  }
 ],
 "metadata": {
  "kernelspec": {
   "display_name": "Python 3",
   "language": "python",
   "name": "python3"
  },
  "language_info": {
   "codemirror_mode": {
    "name": "ipython",
    "version": 3
   },
   "file_extension": ".py",
   "mimetype": "text/x-python",
   "name": "python",
   "nbconvert_exporter": "python",
   "pygments_lexer": "ipython3",
   "version": "3.9.7"
  },
  "orig_nbformat": 4
 },
 "nbformat": 4,
 "nbformat_minor": 2
}
